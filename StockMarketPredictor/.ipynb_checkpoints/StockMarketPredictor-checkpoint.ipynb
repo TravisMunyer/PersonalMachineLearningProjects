{
 "cells": [
  {
   "cell_type": "code",
   "execution_count": 1,
   "id": "6f81b51f",
   "metadata": {},
   "outputs": [],
   "source": [
    "import pandas as pd\n",
    "import numpy as np\n",
    "import datetime\n",
    "import matplotlib.pyplot as plt\n",
    "from sklearn.linear_model import LinearRegression\n",
    "from sklearn.svm import SVR\n",
    "%matplotlib inline"
   ]
  },
  {
   "cell_type": "code",
   "execution_count": 2,
   "id": "f2f362c6",
   "metadata": {},
   "outputs": [],
   "source": [
    "# To run on other stocks, all that is necessary is to download the corresponding file \n",
    "# from https://www.nasdaq.com/market-activity/quotes/historical and use that file here instead.\n",
    "stock_data = pd.read_csv('HistoricalData_1631479589903.csv')"
   ]
  },
  {
   "cell_type": "code",
   "execution_count": 3,
   "id": "444621bc",
   "metadata": {},
   "outputs": [
    {
     "data": {
      "text/html": [
       "<div>\n",
       "<style scoped>\n",
       "    .dataframe tbody tr th:only-of-type {\n",
       "        vertical-align: middle;\n",
       "    }\n",
       "\n",
       "    .dataframe tbody tr th {\n",
       "        vertical-align: top;\n",
       "    }\n",
       "\n",
       "    .dataframe thead th {\n",
       "        text-align: right;\n",
       "    }\n",
       "</style>\n",
       "<table border=\"1\" class=\"dataframe\">\n",
       "  <thead>\n",
       "    <tr style=\"text-align: right;\">\n",
       "      <th></th>\n",
       "      <th>Date</th>\n",
       "      <th>Close/Last</th>\n",
       "      <th>Volume</th>\n",
       "      <th>Open</th>\n",
       "      <th>High</th>\n",
       "      <th>Low</th>\n",
       "    </tr>\n",
       "  </thead>\n",
       "  <tbody>\n",
       "    <tr>\n",
       "      <th>0</th>\n",
       "      <td>09/10/2021</td>\n",
       "      <td>$3469.15</td>\n",
       "      <td>2397269</td>\n",
       "      <td>$3501.8308</td>\n",
       "      <td>$3508.45</td>\n",
       "      <td>$3462.9055</td>\n",
       "    </tr>\n",
       "    <tr>\n",
       "      <th>1</th>\n",
       "      <td>09/09/2021</td>\n",
       "      <td>$3484.16</td>\n",
       "      <td>2719241</td>\n",
       "      <td>$3526.02</td>\n",
       "      <td>$3549.99</td>\n",
       "      <td>$3480.37</td>\n",
       "    </tr>\n",
       "    <tr>\n",
       "      <th>2</th>\n",
       "      <td>09/08/2021</td>\n",
       "      <td>$3525.5</td>\n",
       "      <td>3053364</td>\n",
       "      <td>$3511.65</td>\n",
       "      <td>$3545.63</td>\n",
       "      <td>$3495.67</td>\n",
       "    </tr>\n",
       "    <tr>\n",
       "      <th>3</th>\n",
       "      <td>09/07/2021</td>\n",
       "      <td>$3509.29</td>\n",
       "      <td>2741184</td>\n",
       "      <td>$3478</td>\n",
       "      <td>$3528.09</td>\n",
       "      <td>$3476.94</td>\n",
       "    </tr>\n",
       "    <tr>\n",
       "      <th>4</th>\n",
       "      <td>09/03/2021</td>\n",
       "      <td>$3478.05</td>\n",
       "      <td>2578324</td>\n",
       "      <td>$3452</td>\n",
       "      <td>$3482.67</td>\n",
       "      <td>$3436.44</td>\n",
       "    </tr>\n",
       "    <tr>\n",
       "      <th>...</th>\n",
       "      <td>...</td>\n",
       "      <td>...</td>\n",
       "      <td>...</td>\n",
       "      <td>...</td>\n",
       "      <td>...</td>\n",
       "      <td>...</td>\n",
       "    </tr>\n",
       "    <tr>\n",
       "      <th>2512</th>\n",
       "      <td>09/16/2011</td>\n",
       "      <td>$239.3</td>\n",
       "      <td>11742750</td>\n",
       "      <td>$227.57</td>\n",
       "      <td>$240.44</td>\n",
       "      <td>$226.74</td>\n",
       "    </tr>\n",
       "    <tr>\n",
       "      <th>2513</th>\n",
       "      <td>09/15/2011</td>\n",
       "      <td>$226.78</td>\n",
       "      <td>5602779</td>\n",
       "      <td>$223.99</td>\n",
       "      <td>$227.2</td>\n",
       "      <td>$221.25</td>\n",
       "    </tr>\n",
       "    <tr>\n",
       "      <th>2514</th>\n",
       "      <td>09/14/2011</td>\n",
       "      <td>$222.57</td>\n",
       "      <td>5876710</td>\n",
       "      <td>$220.22</td>\n",
       "      <td>$224.99</td>\n",
       "      <td>$216.724</td>\n",
       "    </tr>\n",
       "    <tr>\n",
       "      <th>2515</th>\n",
       "      <td>09/13/2011</td>\n",
       "      <td>$219.53</td>\n",
       "      <td>4832712</td>\n",
       "      <td>$217.79</td>\n",
       "      <td>$219.95</td>\n",
       "      <td>$215.01</td>\n",
       "    </tr>\n",
       "    <tr>\n",
       "      <th>2516</th>\n",
       "      <td>09/12/2011</td>\n",
       "      <td>$216.56</td>\n",
       "      <td>5337533</td>\n",
       "      <td>$208.75</td>\n",
       "      <td>$216.66</td>\n",
       "      <td>$208.65</td>\n",
       "    </tr>\n",
       "  </tbody>\n",
       "</table>\n",
       "<p>2517 rows × 6 columns</p>\n",
       "</div>"
      ],
      "text/plain": [
       "            Date Close/Last    Volume        Open      High         Low\n",
       "0     09/10/2021   $3469.15   2397269  $3501.8308  $3508.45  $3462.9055\n",
       "1     09/09/2021   $3484.16   2719241    $3526.02  $3549.99    $3480.37\n",
       "2     09/08/2021    $3525.5   3053364    $3511.65  $3545.63    $3495.67\n",
       "3     09/07/2021   $3509.29   2741184       $3478  $3528.09    $3476.94\n",
       "4     09/03/2021   $3478.05   2578324       $3452  $3482.67    $3436.44\n",
       "...          ...        ...       ...         ...       ...         ...\n",
       "2512  09/16/2011     $239.3  11742750     $227.57   $240.44     $226.74\n",
       "2513  09/15/2011    $226.78   5602779     $223.99    $227.2     $221.25\n",
       "2514  09/14/2011    $222.57   5876710     $220.22   $224.99    $216.724\n",
       "2515  09/13/2011    $219.53   4832712     $217.79   $219.95     $215.01\n",
       "2516  09/12/2011    $216.56   5337533     $208.75   $216.66     $208.65\n",
       "\n",
       "[2517 rows x 6 columns]"
      ]
     },
     "execution_count": 3,
     "metadata": {},
     "output_type": "execute_result"
    }
   ],
   "source": [
    "# The original dateset before additions.\n",
    "stock_data"
   ]
  },
  {
   "cell_type": "code",
   "execution_count": 4,
   "id": "a400ebb4",
   "metadata": {},
   "outputs": [],
   "source": [
    "# Convert input date to an integer representation. Note, year must be greater than 2000 for accurate results.\n",
    "# Also, this conversion doesn't take into account months with less/more days and years with more days.\n",
    "# But for our purposes, this isn't a big deal. \n",
    "def convert_date_to_int(timestr):\n",
    "    day_weight = 1\n",
    "    month_weight = 30\n",
    "    year_weight = 365\n",
    "    date = datetime.datetime.strptime(timestr, '%m/%d/%Y')\n",
    "    return (date.day*day_weight) + (date.month*month_weight) + ((date.year-2000)*year_weight)"
   ]
  },
  {
   "cell_type": "code",
   "execution_count": 5,
   "id": "c71ba461",
   "metadata": {},
   "outputs": [],
   "source": [
    "# Lets uses average daily price instead of either high/low. This reduces outliers that may skew results.\n",
    "def get_average_price(low_price, high_price):\n",
    "    return (float(low_price[1:]) + float(high_price[1:]))/2"
   ]
  },
  {
   "cell_type": "code",
   "execution_count": 6,
   "id": "e220a102",
   "metadata": {},
   "outputs": [],
   "source": [
    "# Convert the date to an integer and compute the average price for each day included in the data.\n",
    "date_int_list = []\n",
    "average_price_list = []\n",
    "for i in range(stock_data[\"Date\"].shape[0]):\n",
    "    date_int = convert_date_to_int(stock_data[\"Date\"][i])\n",
    "    average_price = get_average_price(stock_data[\"Low\"][i], stock_data[\"High\"][i])\n",
    "    date_int_list.append(date_int)\n",
    "    average_price_list.append(average_price)"
   ]
  },
  {
   "cell_type": "code",
   "execution_count": 7,
   "id": "a3c17edd",
   "metadata": {},
   "outputs": [],
   "source": [
    "# Add the average price and the year converted to an integer to the pandas dataframe. \n",
    "stock_data[\"year_int\"] = date_int_list\n",
    "stock_data[\"price_average\"] = average_price_list"
   ]
  },
  {
   "cell_type": "code",
   "execution_count": 8,
   "id": "818b32d0",
   "metadata": {
    "scrolled": true
   },
   "outputs": [
    {
     "data": {
      "text/html": [
       "<div>\n",
       "<style scoped>\n",
       "    .dataframe tbody tr th:only-of-type {\n",
       "        vertical-align: middle;\n",
       "    }\n",
       "\n",
       "    .dataframe tbody tr th {\n",
       "        vertical-align: top;\n",
       "    }\n",
       "\n",
       "    .dataframe thead th {\n",
       "        text-align: right;\n",
       "    }\n",
       "</style>\n",
       "<table border=\"1\" class=\"dataframe\">\n",
       "  <thead>\n",
       "    <tr style=\"text-align: right;\">\n",
       "      <th></th>\n",
       "      <th>Date</th>\n",
       "      <th>Close/Last</th>\n",
       "      <th>Volume</th>\n",
       "      <th>Open</th>\n",
       "      <th>High</th>\n",
       "      <th>Low</th>\n",
       "      <th>year_int</th>\n",
       "      <th>price_average</th>\n",
       "    </tr>\n",
       "  </thead>\n",
       "  <tbody>\n",
       "    <tr>\n",
       "      <th>0</th>\n",
       "      <td>09/10/2021</td>\n",
       "      <td>$3469.15</td>\n",
       "      <td>2397269</td>\n",
       "      <td>$3501.8308</td>\n",
       "      <td>$3508.45</td>\n",
       "      <td>$3462.9055</td>\n",
       "      <td>7945</td>\n",
       "      <td>3485.67775</td>\n",
       "    </tr>\n",
       "    <tr>\n",
       "      <th>1</th>\n",
       "      <td>09/09/2021</td>\n",
       "      <td>$3484.16</td>\n",
       "      <td>2719241</td>\n",
       "      <td>$3526.02</td>\n",
       "      <td>$3549.99</td>\n",
       "      <td>$3480.37</td>\n",
       "      <td>7944</td>\n",
       "      <td>3515.18000</td>\n",
       "    </tr>\n",
       "    <tr>\n",
       "      <th>2</th>\n",
       "      <td>09/08/2021</td>\n",
       "      <td>$3525.5</td>\n",
       "      <td>3053364</td>\n",
       "      <td>$3511.65</td>\n",
       "      <td>$3545.63</td>\n",
       "      <td>$3495.67</td>\n",
       "      <td>7943</td>\n",
       "      <td>3520.65000</td>\n",
       "    </tr>\n",
       "    <tr>\n",
       "      <th>3</th>\n",
       "      <td>09/07/2021</td>\n",
       "      <td>$3509.29</td>\n",
       "      <td>2741184</td>\n",
       "      <td>$3478</td>\n",
       "      <td>$3528.09</td>\n",
       "      <td>$3476.94</td>\n",
       "      <td>7942</td>\n",
       "      <td>3502.51500</td>\n",
       "    </tr>\n",
       "    <tr>\n",
       "      <th>4</th>\n",
       "      <td>09/03/2021</td>\n",
       "      <td>$3478.05</td>\n",
       "      <td>2578324</td>\n",
       "      <td>$3452</td>\n",
       "      <td>$3482.67</td>\n",
       "      <td>$3436.44</td>\n",
       "      <td>7938</td>\n",
       "      <td>3459.55500</td>\n",
       "    </tr>\n",
       "    <tr>\n",
       "      <th>...</th>\n",
       "      <td>...</td>\n",
       "      <td>...</td>\n",
       "      <td>...</td>\n",
       "      <td>...</td>\n",
       "      <td>...</td>\n",
       "      <td>...</td>\n",
       "      <td>...</td>\n",
       "      <td>...</td>\n",
       "    </tr>\n",
       "    <tr>\n",
       "      <th>2512</th>\n",
       "      <td>09/16/2011</td>\n",
       "      <td>$239.3</td>\n",
       "      <td>11742750</td>\n",
       "      <td>$227.57</td>\n",
       "      <td>$240.44</td>\n",
       "      <td>$226.74</td>\n",
       "      <td>4301</td>\n",
       "      <td>233.59000</td>\n",
       "    </tr>\n",
       "    <tr>\n",
       "      <th>2513</th>\n",
       "      <td>09/15/2011</td>\n",
       "      <td>$226.78</td>\n",
       "      <td>5602779</td>\n",
       "      <td>$223.99</td>\n",
       "      <td>$227.2</td>\n",
       "      <td>$221.25</td>\n",
       "      <td>4300</td>\n",
       "      <td>224.22500</td>\n",
       "    </tr>\n",
       "    <tr>\n",
       "      <th>2514</th>\n",
       "      <td>09/14/2011</td>\n",
       "      <td>$222.57</td>\n",
       "      <td>5876710</td>\n",
       "      <td>$220.22</td>\n",
       "      <td>$224.99</td>\n",
       "      <td>$216.724</td>\n",
       "      <td>4299</td>\n",
       "      <td>220.85700</td>\n",
       "    </tr>\n",
       "    <tr>\n",
       "      <th>2515</th>\n",
       "      <td>09/13/2011</td>\n",
       "      <td>$219.53</td>\n",
       "      <td>4832712</td>\n",
       "      <td>$217.79</td>\n",
       "      <td>$219.95</td>\n",
       "      <td>$215.01</td>\n",
       "      <td>4298</td>\n",
       "      <td>217.48000</td>\n",
       "    </tr>\n",
       "    <tr>\n",
       "      <th>2516</th>\n",
       "      <td>09/12/2011</td>\n",
       "      <td>$216.56</td>\n",
       "      <td>5337533</td>\n",
       "      <td>$208.75</td>\n",
       "      <td>$216.66</td>\n",
       "      <td>$208.65</td>\n",
       "      <td>4297</td>\n",
       "      <td>212.65500</td>\n",
       "    </tr>\n",
       "  </tbody>\n",
       "</table>\n",
       "<p>2517 rows × 8 columns</p>\n",
       "</div>"
      ],
      "text/plain": [
       "            Date Close/Last    Volume        Open      High         Low  \\\n",
       "0     09/10/2021   $3469.15   2397269  $3501.8308  $3508.45  $3462.9055   \n",
       "1     09/09/2021   $3484.16   2719241    $3526.02  $3549.99    $3480.37   \n",
       "2     09/08/2021    $3525.5   3053364    $3511.65  $3545.63    $3495.67   \n",
       "3     09/07/2021   $3509.29   2741184       $3478  $3528.09    $3476.94   \n",
       "4     09/03/2021   $3478.05   2578324       $3452  $3482.67    $3436.44   \n",
       "...          ...        ...       ...         ...       ...         ...   \n",
       "2512  09/16/2011     $239.3  11742750     $227.57   $240.44     $226.74   \n",
       "2513  09/15/2011    $226.78   5602779     $223.99    $227.2     $221.25   \n",
       "2514  09/14/2011    $222.57   5876710     $220.22   $224.99    $216.724   \n",
       "2515  09/13/2011    $219.53   4832712     $217.79   $219.95     $215.01   \n",
       "2516  09/12/2011    $216.56   5337533     $208.75   $216.66     $208.65   \n",
       "\n",
       "      year_int  price_average  \n",
       "0         7945     3485.67775  \n",
       "1         7944     3515.18000  \n",
       "2         7943     3520.65000  \n",
       "3         7942     3502.51500  \n",
       "4         7938     3459.55500  \n",
       "...        ...            ...  \n",
       "2512      4301      233.59000  \n",
       "2513      4300      224.22500  \n",
       "2514      4299      220.85700  \n",
       "2515      4298      217.48000  \n",
       "2516      4297      212.65500  \n",
       "\n",
       "[2517 rows x 8 columns]"
      ]
     },
     "execution_count": 8,
     "metadata": {},
     "output_type": "execute_result"
    }
   ],
   "source": [
    "# The dataset after performing our computations. \n",
    "stock_data"
   ]
  },
  {
   "cell_type": "code",
   "execution_count": 9,
   "id": "e0cb5ca1",
   "metadata": {},
   "outputs": [],
   "source": [
    "year_data = stock_data[\"year_int\"].to_numpy().reshape(-1, 1)\n",
    "average_price_data = stock_data[\"price_average\"].to_numpy().reshape(-1, 1)"
   ]
  },
  {
   "cell_type": "code",
   "execution_count": 10,
   "id": "9ee9442a",
   "metadata": {},
   "outputs": [],
   "source": [
    "reg = LinearRegression().fit(year_data, average_price_data)"
   ]
  },
  {
   "cell_type": "code",
   "execution_count": 11,
   "id": "9ff60f8d",
   "metadata": {},
   "outputs": [],
   "source": [
    "w = reg.coef_"
   ]
  },
  {
   "cell_type": "code",
   "execution_count": 12,
   "id": "539e28ca",
   "metadata": {},
   "outputs": [],
   "source": [
    "b = reg.intercept_"
   ]
  },
  {
   "cell_type": "code",
   "execution_count": 13,
   "id": "bb71a4f7",
   "metadata": {},
   "outputs": [
    {
     "data": {
      "text/plain": [
       "Text(0.5, 1.0, 'Price vs time')"
      ]
     },
     "execution_count": 13,
     "metadata": {},
     "output_type": "execute_result"
    },
    {
     "data": {
      "image/png": "[encoded data removed]",
      "text/plain": [
       "<Figure size 432x288 with 1 Axes>"
      ]
     },
     "metadata": {
      "needs_background": "light"
     },
     "output_type": "display_data"
    }
   ],
   "source": [
    "# Linear Model. Not the greatest fit so let's try a polynomial.\n",
    "plt.scatter(year_data, average_price_data)\n",
    "plt.plot(year_data, year_data*w + b)\n",
    "plt.xlabel(\"Date (as int)\")\n",
    "plt.ylabel(\"Average Price\")\n",
    "plt.title(\"Price vs time\")"
   ]
  },
  {
   "cell_type": "code",
   "execution_count": 14,
   "id": "0881de3e",
   "metadata": {},
   "outputs": [
    {
     "name": "stderr",
     "output_type": "stream",
     "text": [
      "f:\\files\\applications\\anaconda\\envs\\ml\\lib\\site-packages\\sklearn\\utils\\validation.py:63: DataConversionWarning: A column-vector y was passed when a 1d array was expected. Please change the shape of y to (n_samples, ), for example using ravel().\n",
      "  return f(*args, **kwargs)\n"
     ]
    }
   ],
   "source": [
    "svr = SVR(kernel='poly', degree=5).fit(year_data, average_price_data)"
   ]
  },
  {
   "cell_type": "code",
   "execution_count": 15,
   "id": "f32daa57",
   "metadata": {},
   "outputs": [],
   "source": [
    "predictions = svr.predict(year_data)"
   ]
  },
  {
   "cell_type": "code",
   "execution_count": 16,
   "id": "46b102b2",
   "metadata": {},
   "outputs": [
    {
     "data": {
      "text/plain": [
       "Text(0.5, 1.0, 'Price vs time')"
      ]
     },
     "execution_count": 16,
     "metadata": {},
     "output_type": "execute_result"
    },
    {
     "data": {
      "image/png": "[encoded data removed]",
      "text/plain": [
       "<Figure size 432x288 with 1 Axes>"
      ]
     },
     "metadata": {
      "needs_background": "light"
     },
     "output_type": "display_data"
    }
   ],
   "source": [
    "# Plot the SVR model. The line in the graph shows the predictions as time progresses.\n",
    "plt.figure().clear()\n",
    "plt.scatter(year_data, average_price_data)\n",
    "plt.plot(year_data, predictions)\n",
    "plt.xlabel(\"Date (as int)\")\n",
    "plt.ylabel(\"Average Price\")\n",
    "plt.title(\"Price vs time\")"
   ]
  },
  {
   "cell_type": "code",
   "execution_count": 49,
   "id": "422e9791",
   "metadata": {},
   "outputs": [],
   "source": [
    "# Change the \"date_for_prediction\" variable to any date to predict the price (ensure its in the mm/dd/yyyy format).\n",
    "date_for_prediction = \"10/10/2025\"\n",
    "date_prediction_int = convert_date_to_int(date_for_prediction)\n",
    "date_prediction_numpy = np.asarray([date_prediction_int]).reshape(1, -1)"
   ]
  },
  {
   "cell_type": "code",
   "execution_count": 51,
   "id": "ce4668bf",
   "metadata": {},
   "outputs": [],
   "source": [
    "date_prediction = svr.predict(date_prediction_numpy)"
   ]
  },
  {
   "cell_type": "code",
   "execution_count": 53,
   "id": "5d8db07e",
   "metadata": {},
   "outputs": [
    {
     "data": {
      "text/plain": [
       "7974.418549487713"
      ]
     },
     "execution_count": 53,
     "metadata": {},
     "output_type": "execute_result"
    }
   ],
   "source": [
    "# Prediction value for testing date(s). \n",
    "date_prediction[0]"
   ]
  }
 ],
 "metadata": {
  "kernelspec": {
   "display_name": "Python 3 (ipykernel)",
   "language": "python",
   "name": "python3"
  },
  "language_info": {
   "codemirror_mode": {
    "name": "ipython",
    "version": 3
   },
   "file_extension": ".py",
   "mimetype": "text/x-python",
   "name": "python",
   "nbconvert_exporter": "python",
   "pygments_lexer": "ipython3",
   "version": "3.8.11"
  }
 },
 "nbformat": 4,
 "nbformat_minor": 5
}
